{
 "cells": [
  {
   "cell_type": "code",
   "execution_count": 1,
   "id": "938e2e88-75de-44f6-8ae3-67c99d87e404",
   "metadata": {},
   "outputs": [],
   "source": [
    "\n",
    "import numpy as np # linear algebra\n",
    "import pandas as pd # data processing, CSV file I/O (e.g. pd.read_csv)\n",
    "import matplotlib.pyplot as plt\n",
    "import seaborn as sns\n",
    "from sklearn.model_selection import train_test_split\n",
    "from sklearn.metrics import classification_report,confusion_matrix\n",
    "import cv2\n",
    "import os\n"
   ]
  },
  {
   "cell_type": "code",
   "execution_count": 2,
   "id": "f401b9ca-97c6-44af-9c9b-89b6f055b91d",
   "metadata": {},
   "outputs": [],
   "source": [
    "import torch\n",
    "import torch.nn as nn\n",
    "import torch.optim as optim\n",
    "from torchvision import models, transforms\n",
    "from torch.utils.data import Dataset, DataLoader\n",
    "from PIL import Image\n",
    "from torchvision.datasets import ImageFolder\n",
    "import os\n",
    "import cv2\n",
    "from tqdm import tqdm\n",
    "import numpy as np\n",
    "import time"
   ]
  },
  {
   "cell_type": "code",
   "execution_count": 3,
   "id": "73955a12-020c-4a63-ae3f-482b484e62ba",
   "metadata": {},
   "outputs": [],
   "source": [
    "import torch\n",
    "from torch.utils.data import Dataset, DataLoader\n",
    "import ntpath\n"
   ]
  },
  {
   "cell_type": "code",
   "execution_count": 4,
   "id": "57e56979-c88d-4609-a3c7-024969bcd0ce",
   "metadata": {},
   "outputs": [
    {
     "data": {
      "text/plain": [
       "'Tuberculosis-454.png'"
      ]
     },
     "execution_count": 4,
     "metadata": {},
     "output_type": "execute_result"
    }
   ],
   "source": [
    "(os.listdir(r\"/home/tk/jnotebook/AI/Akciger/Mixed/train/TURBERCULOSIS/\"))[5]"
   ]
  },
  {
   "cell_type": "markdown",
   "id": "724ca6c3-5c18-43ca-9518-5c66abb2a96f",
   "metadata": {},
   "source": [
    "## DATASETS"
   ]
  },
  {
   "cell_type": "markdown",
   "id": "289dfc82-e5c9-46db-a9e4-dc5da74b7ad7",
   "metadata": {},
   "source": [
    "PPDataset, takes list of images but does not upload it directly. it process the image while trying to get it by path. Avoids out of memory problem if there is a lot of image."
   ]
  },
  {
   "cell_type": "code",
   "execution_count": 10,
   "id": "cb361c9b-9867-423d-a6ae-d793b934dc3c",
   "metadata": {},
   "outputs": [],
   "source": [
    "\n",
    "class PPDataset(Dataset):\n",
    "    def __init__(\n",
    "        self,\n",
    "        image_size=150,\n",
    "        data_transforms = transforms.Compose([\n",
    "            transforms.RandomRotation(30),  # Randomly rotate images\n",
    "            transforms.RandomResizedCrop(150, scale=(0.8, 1.0)),  # Randomly crop and resize\n",
    "            transforms.RandomHorizontalFlip(),  # Randomly flip images horizontally\n",
    "            transforms.ToTensor(),  # Convert the image to a tensor\n",
    "            transforms.Normalize(mean=[0.5], std=[0.5])  # Normalize for grayscale images\n",
    "        ])\n",
    "        ):\n",
    "        self.list=[]\n",
    "        self.image_size=image_size\n",
    "        self.transform=data_transforms\n",
    "        \n",
    "        self.device = torch.device(\"cuda\" if torch.cuda.is_available() else \"cpu\")\n",
    "\n",
    "        self.read_transform = transforms.Compose([\n",
    "            transforms.ToTensor(),  # Convert the image to a tensor\n",
    "            transforms.Normalize(mean=[0.5], std=[0.5])  # Normalize for grayscale images\n",
    "        ])\n",
    "        return\n",
    "\n",
    "    def add_data(self,path,label_name,multiply=1):\n",
    "        \n",
    "        index = self.name_to_index(label_name)\n",
    "        if index == -1: # NOT EXİST\n",
    "            path_file = []\n",
    "            for p in os.listdir(path):\n",
    "                path_file.append(os.path.join(path,p))\n",
    "            self.list.append({\"name\":label_name.strip().lower(),\"data\":path_file,\"enable\":True,\"multiply\":multiply})\n",
    "        else:           # EXIST\n",
    "            self.list[index][\"multiply\"]=multiply\n",
    "            for path_add in os.listdir(path):\n",
    "                contains=False\n",
    "                add_name=ntpath.basename(path_add)\n",
    "                #print(add_name,path_add)\n",
    "                for path_list in self.list[index][\"data\"]:\n",
    "                    list_name = ntpath.basename(path_list)\n",
    "                    #print(list_name,path_list)\n",
    "                    #time.sleep(0.5)\n",
    "                    if(list_name == add_name):\n",
    "                        contains=True\n",
    "                        break\n",
    "                if not contains:\n",
    "                    self.list[index][\"data\"].append(os.path.join(path,path_add))\n",
    "                    #print(os.path.join(path,path_add))\n",
    "        #print(self.list[index][\"data\"])\n",
    "            #self.list[index][\"data\"].append(os.listdir(path))\n",
    "\n",
    "    def __len__(self):\n",
    "        total_size=0\n",
    "        for data in self.list:\n",
    "            if data[\"enable\"]:\n",
    "                 total_size+=len(data[\"data\"])*data[\"multiply\"]\n",
    "        return total_size\n",
    "\n",
    "    def __getitem__(self, index):\n",
    "        total_size=0\n",
    "        data_id=0\n",
    "        for data in self.list:\n",
    "            if data[\"enable\"]:\n",
    "                current_size=len(data[\"data\"])\n",
    "                if index<total_size+current_size*data[\"multiply\"]:\n",
    "                    index-=total_size\n",
    "                    path=data[\"data\"][index%current_size]#path=os.path.join(data[\"path\"],data[\"data\"][index])\n",
    "                    #print(path)\n",
    "                    #img_arr = cv2.imread(os.path.join(path, img), cv2.IMREAD_GRAYSCALE)\n",
    "                    #print(path)\n",
    "                    image = Image.open(path).convert('L') \n",
    "                    \n",
    "                    image = np.array(image)\n",
    "                    \n",
    "                    image = cv2.resize( image, (self.image_size, self.image_size))\n",
    "                    image = Image.fromarray((image * 255).astype(np.uint8), mode='L')  # Convert to grayscale\n",
    "                    if self.transform:\n",
    "                        image = self.transform(image)\n",
    "    \n",
    "                    \n",
    "                    tensor = torch.zeros(self.get_label_size(), dtype=torch.float32).to(self.device)\n",
    "                    tensor[data_id] = 1\n",
    "    \n",
    "                    \n",
    "                    return image.to(self.device), tensor   #torch.tensor(data_id).to(self.device)\n",
    "                    #return data[\"data\"][index],data_id\n",
    "                else:\n",
    "                    total_size+=current_size*data[\"multiply\"]\n",
    "                    data_id+=1\n",
    "            else:\n",
    "                data_id+=1\n",
    "        return (None,None)\n",
    "\n",
    "    def read_and_transform(self,path):\n",
    "        image = Image.open(path).convert('L') \n",
    "        print(path, image==None)\n",
    "        image = np.array(image)\n",
    "                    \n",
    "        image = cv2.resize( image, (self.image_size, self.image_size))\n",
    "        image = Image.fromarray((image * 255).astype(np.uint8), mode='L')  # Convert to grayscale\n",
    "                    \n",
    "        image = self.read_transform(image).to(device)\n",
    "        return image\n",
    "\n",
    "    def name_to_index(self,name):\n",
    "        index = 0\n",
    "        for data in self.list:\n",
    "            if data[\"name\"] == name.strip().lower():\n",
    "                return index\n",
    "            else:\n",
    "                index+=1\n",
    "        return-1\n",
    "\n",
    "    def index_to_name(self,index):\n",
    "        if len(self.list)>index:\n",
    "            return self.list[index][\"name\"]\n",
    "        return \"N/A\"\n",
    "\n",
    "    def get_label_size(self):\n",
    "        return len(self.list)\n",
    "        \n",
    "    \n",
    "    def get_data_size_by_name(self,name):\n",
    "        index = self.name_to_index(name)\n",
    "        if index==-1:\n",
    "            return None\n",
    "        else:\n",
    "            return len(self.list[index][\"data\"])\n",
    "\n",
    "    def __get_info_str__(self):\n",
    "        str = f\"Total Labels: {len(self.list)}\\n----------------\\nLabels & Size:\\n\"\n",
    "        total_size=0\n",
    "        for i in range(len(self.list)):\n",
    "            str+=f\" ~{self.list[i][\"name\"]}:{len(self.list[i][\"data\"])} M:{self.list[i][\"multiply\"]} E:{(self.list[i][\"enable\"])} Start Index:{total_size}\\n\"\n",
    "            total_size+=len(self.list[i][\"data\"])*self.list[i][\"multiply\"]\n",
    "        str+=f\"Total Size:{total_size}\"\n",
    "        return str\n",
    "\n",
    "    def print_info(self):\n",
    "        print(self.__get_info_str__())\n",
    "\n",
    "    def get_label_names(self):\n",
    "        names=[]\n",
    "        for n in self.list:\n",
    "            names.append(n[\"name\"])\n",
    "        return names\n",
    "\n",
    "    def enable_all(self):\n",
    "        for data in self.list:\n",
    "            data[\"enable\"]=True\n",
    "\n",
    "    def enable_data(self,label_name,enable=True):\n",
    "        if type(label_name) is str:\n",
    "            label_name=self.name_to_index(label_name)\n",
    "        if label_name!=-1:\n",
    "            self.list[label_name][\"enable\"]=True\n",
    "\n",
    "    def enable_only(self,label_name,enable=True):\n",
    "        if type(label_name) is str:\n",
    "            label_name=self.name_to_index(label_name)\n",
    "        \n",
    "        for i in range(len(self.list)):\n",
    "            self.list[i][\"enable\"] = (i == label_name)\n",
    "\n",
    "    def change_label_multiply(self,label_name,multiply:int=1):\n",
    "        if type(label_name) is str:\n",
    "            label_name=self.name_to_index(label_name)\n",
    "        if label_name!=-1:\n",
    "            self.list[label_name][\"multiply\"]=multiply\n",
    "        \n",
    "        \n",
    "        # Optional: You can apply transformations here (like normalization, augmentation, etc.)"
   ]
  },
  {
   "cell_type": "code",
   "execution_count": 11,
   "id": "e5073830-57e0-452f-80cb-106fa1fbdb73",
   "metadata": {},
   "outputs": [
    {
     "name": "stdout",
     "output_type": "stream",
     "text": [
      "Total Labels: 7\n",
      "----------------\n",
      "Labels & Size:\n",
      " ~normal:5504 M:1 E:True Start Index:0\n",
      " ~tüberküloz:1870 M:1 E:True Start Index:5504\n",
      " ~pneumonia:5157 M:1 E:True Start Index:7374\n",
      " ~covid:1468 M:1 E:True Start Index:12531\n",
      " ~fibroz:657 M:4 E:True Start Index:13999\n",
      " ~bengin (kanser):108 M:1 E:True Start Index:16627\n",
      " ~malignant (kanser):505 M:1 E:True Start Index:16735\n",
      "Total Size:17240\n"
     ]
    }
   ],
   "source": [
    "data_train = PPDataset()\n",
    "data_train.add_data(\"/home/tk/jnotebook/AI/Akciger/Mixed/train/NORMAL/\",\"normal\")\n",
    "data_train.add_data(\"/home/tk/jnotebook/AI/Akciger/data/Tuberkuloz/train/Normal/\",\"normal\")\n",
    "data_train.add_data(\"/home/tk/jnotebook/AI/Akciger/data/pnomoni2/Normal/\",\"normal\")\n",
    "data_train.add_data(\"/home/tk/jnotebook/AI/Akciger/data/Fibroz/Normal/\",\"normal\")\n",
    "data_train.add_data(\"/home/tk/jnotebook/AI/Akciger/data/Cancer/Normal cases/\",\"normal\")\n",
    "\n",
    "data_train.add_data(\"/home/tk/jnotebook/AI/Akciger/Mixed/train/TURBERCULOSIS/\",\"tüberküloz\")\n",
    "data_train.add_data(\"/home/tk/jnotebook/AI/Akciger/data/Tuberkuloz/train/Tuberculosis/\",\"tüberküloz\")\n",
    "\n",
    "data_train.add_data(\"/home/tk/jnotebook/AI/Akciger/Mixed/train/PNEUMONIA/\",\"pneumonia\")\n",
    "data_train.add_data(\"/home/tk/jnotebook/AI/Akciger/data/pnomoni2/Viral Pneumonia/\",\"pneumonia\")\n",
    "data_train.add_data(\"/home/tk/jnotebook/AI/Akciger/data/Fibroz/Pneumonia/\",\"pneumonia\")\n",
    "\n",
    "data_train.add_data(\"/home/tk/jnotebook/AI/Akciger/Mixed/train/COVID19/\",\"covid\")\n",
    "data_train.add_data(\"/home/tk/jnotebook/AI/Akciger/data/Tuberkuloz/train/Covid19/\",\"covid\")\n",
    "\n",
    "data_train.add_data(\"/home/tk/jnotebook/AI/Akciger/data/Fibroz/Fibrosis/\",\"fibroz\",multiply=4)\n",
    "\n",
    "data_train.add_data(\"/home/tk/jnotebook/AI/Akciger/data/Cancer/Bengin cases/\",\"Bengin (Kanser)\")\n",
    "\n",
    "data_train.add_data(\"/home/tk/jnotebook/AI/Akciger/data/Cancer/Malignant cases/\",\"Malignant (Kanser)\")\n",
    "\n",
    "\n",
    "#print(\"Normal Images:\",data_train.get_data_size_by_name(\"normal\"))\n",
    "#print(data_train[100])\n",
    "data_train.print_info()"
   ]
  },
  {
   "cell_type": "code",
   "execution_count": 12,
   "id": "c02deeaa-8625-4b47-997f-c3f48a3e6e1a",
   "metadata": {},
   "outputs": [
    {
     "name": "stdout",
     "output_type": "stream",
     "text": [
      "Total Labels: 7\n",
      "----------------\n",
      "Labels & Size:\n",
      " ~normal:5504 M:1 E:True Start Index:0\n",
      " ~tüberküloz:1870 M:1 E:True Start Index:5504\n",
      " ~pneumonia:5157 M:1 E:True Start Index:7374\n",
      " ~covid:1468 M:1 E:True Start Index:12531\n",
      " ~fibroz:657 M:2 E:True Start Index:13999\n",
      " ~bengin (kanser):108 M:8 E:True Start Index:15313\n",
      " ~malignant (kanser):505 M:2 E:True Start Index:16177\n",
      "Total Size:17187\n"
     ]
    }
   ],
   "source": [
    "#data_train.enable_only(\"fibroz\")\n",
    "#data_train.enable_data(\"normal\")\n",
    "#data_train.enable_all()\n",
    "data_train.change_label_multiply(\"fibroz\",2)\n",
    "data_train.change_label_multiply(\"bengin (kanser)\",8)\n",
    "data_train.change_label_multiply(\"malignant (kanser)\",2)\n",
    "data_train.print_info()"
   ]
  },
  {
   "cell_type": "code",
   "execution_count": 13,
   "id": "6d29b9db-bf5c-45c4-bad9-4c6f60fcedbb",
   "metadata": {},
   "outputs": [
    {
     "data": {
      "text/plain": [
       "(tensor([[[-1., -1., -1.,  ..., -1., -1., -1.],\n",
       "          [-1., -1., -1.,  ..., -1., -1., -1.],\n",
       "          [-1., -1., -1.,  ..., -1., -1., -1.],\n",
       "          ...,\n",
       "          [-1., -1., -1.,  ..., -1., -1., -1.],\n",
       "          [-1., -1., -1.,  ..., -1., -1., -1.],\n",
       "          [-1., -1., -1.,  ..., -1., -1., -1.]]], device='cuda:0'),\n",
       " tensor([0., 0., 0., 0., 0., 1., 0.], device='cuda:0'))"
      ]
     },
     "execution_count": 13,
     "metadata": {},
     "output_type": "execute_result"
    }
   ],
   "source": [
    "data_train[16000]"
   ]
  },
  {
   "cell_type": "code",
   "execution_count": 9,
   "id": "f9b1ffe0-f809-4c4c-9b8f-476aaa29accd",
   "metadata": {},
   "outputs": [
    {
     "data": {
      "text/plain": [
       "17187"
      ]
     },
     "execution_count": 9,
     "metadata": {},
     "output_type": "execute_result"
    }
   ],
   "source": [
    "len(data_train)"
   ]
  },
  {
   "cell_type": "code",
   "execution_count": 10,
   "id": "c66c5364-662d-44c3-b844-3b3091dbfe0a",
   "metadata": {},
   "outputs": [],
   "source": [
    "train_loader = DataLoader(data_train, batch_size=32, shuffle=True)"
   ]
  },
  {
   "cell_type": "markdown",
   "id": "06935e49-98fd-4b39-91ac-bca0ba8aca34",
   "metadata": {},
   "source": [
    "## MODEL"
   ]
  },
  {
   "cell_type": "code",
   "execution_count": 14,
   "id": "d2b06b27-333c-4257-8c42-48e588d6b7b7",
   "metadata": {},
   "outputs": [],
   "source": [
    "\n",
    "device = torch.device(\"cuda\" if torch.cuda.is_available() else \"cpu\")\n",
    "model = models.resnet18(pretrained=True)\n",
    "\n",
    "# Modify the first convolutional layer to accept 1 channel (grayscale) instead of 3\n",
    "model.conv1 = nn.Conv2d(1, 64, kernel_size=7, stride=2, padding=3, bias=False)\n",
    "\n",
    "# Modify the classifier for binary classification\n",
    "model.fc = nn.Sequential(\n",
    "    nn.Linear(model.fc.in_features, 512),  # Single output neuron //data_train\n",
    "    #nn.Sigmoid()  # Sigmoid activation for binary classification\n",
    "    nn.ReLU(),\n",
    "    nn.Linear(512,512),\n",
    "    nn.ReLU(),\n",
    "    nn.Linear(512,data_train.get_label_size()),\n",
    "    nn.Sigmoid()\n",
    ")\n",
    "model = model.to(device)\n"
   ]
  },
  {
   "cell_type": "code",
   "execution_count": 12,
   "id": "a2ab7d4f-6db0-494a-8883-bb883c982fc8",
   "metadata": {},
   "outputs": [],
   "source": [
    "#model.fc.in_features"
   ]
  },
  {
   "cell_type": "markdown",
   "id": "6685e24a-9113-4a6e-b663-24ea737150d1",
   "metadata": {},
   "source": [
    "## TRAIN"
   ]
  },
  {
   "cell_type": "code",
   "execution_count": 13,
   "id": "a13503e2-a2e9-4d6b-8d0e-3c64902fddcf",
   "metadata": {},
   "outputs": [],
   "source": [
    "\n",
    "criterion = nn.BCELoss()  # Binary Cross-Entropy Loss\n",
    "optimizer = optim.Adam(model.parameters(), lr=0.001)"
   ]
  },
  {
   "cell_type": "code",
   "execution_count": 14,
   "id": "e81b450f-9a5d-4cae-90f2-037bb7e90e07",
   "metadata": {},
   "outputs": [],
   "source": [
    "total_epoch=8"
   ]
  },
  {
   "cell_type": "code",
   "execution_count": 15,
   "id": "08cd3ecc-908e-4c12-a1fc-fffbaf000aca",
   "metadata": {},
   "outputs": [],
   "source": [
    "loss_list = {}"
   ]
  },
  {
   "cell_type": "code",
   "execution_count": 16,
   "id": "7dcba3e7-4fe3-49e8-a37d-c606d3cf03ff",
   "metadata": {},
   "outputs": [],
   "source": [
    "acc_list={}"
   ]
  },
  {
   "cell_type": "code",
   "execution_count": 18,
   "id": "a56bd154-0306-459c-b504-fb47785279a2",
   "metadata": {},
   "outputs": [
    {
     "name": "stderr",
     "output_type": "stream",
     "text": [
      " 50%|███████████████████████████████████████▌                                       | 1/2 [06:20<06:20, 380.23s/it]"
     ]
    },
    {
     "name": "stdout",
     "output_type": "stream",
     "text": [
      "Epoch 2/1, Loss: 0.10033183706211113, Total Epoch:9\n"
     ]
    },
    {
     "name": "stderr",
     "output_type": "stream",
     "text": [
      "100%|███████████████████████████████████████████████████████████████████████████████| 2/2 [12:32<00:00, 376.06s/it]"
     ]
    },
    {
     "name": "stdout",
     "output_type": "stream",
     "text": [
      "Epoch 2/2, Loss: 0.09628389683659414, Total Epoch:10\n",
      "Done!\n"
     ]
    },
    {
     "name": "stderr",
     "output_type": "stream",
     "text": [
      "\n"
     ]
    }
   ],
   "source": [
    "\n",
    "# Training loop\n",
    "num_epochs = 2\n",
    "\n",
    "\n",
    "label_size=data_train.get_label_size()\n",
    "\n",
    "model.train()\n",
    "for epoch in tqdm(range(num_epochs)):\n",
    "    running_loss = 0.0\n",
    "    for inputs, labels in (train_loader):\n",
    "        inputs, labels = inputs.to(device), labels.float().unsqueeze(1).to(device)  # Reshape labels to [batch_size, 1]\n",
    "        \n",
    "        \n",
    "        optimizer.zero_grad()\n",
    "        outputs = model(inputs)\n",
    "        #print(labels.shape)\n",
    "        loss = criterion(outputs, labels.view(-1,label_size))\n",
    "        loss.backward()\n",
    "        optimizer.step()\n",
    "        \n",
    "        running_loss += loss.item()\n",
    "    \n",
    "    # Print the loss for each epoch\n",
    "    total_epoch+=1\n",
    "    loss_number=running_loss/len(train_loader)\n",
    "    print(f\"Epoch {num_epochs}/{epoch+1}, Loss: {loss_number}, Total Epoch:{total_epoch}\")\n",
    "    loss_list[total_epoch]=loss_number\n",
    "print(\"Done!\")\n"
   ]
  },
  {
   "cell_type": "code",
   "execution_count": 15,
   "id": "6d30faa5-1424-4c50-bee6-2138a03027ae",
   "metadata": {},
   "outputs": [
    {
     "data": {
      "text/plain": [
       "ResNet(\n",
       "  (conv1): Conv2d(1, 64, kernel_size=(7, 7), stride=(2, 2), padding=(3, 3), bias=False)\n",
       "  (bn1): BatchNorm2d(64, eps=1e-05, momentum=0.1, affine=True, track_running_stats=True)\n",
       "  (relu): ReLU(inplace=True)\n",
       "  (maxpool): MaxPool2d(kernel_size=3, stride=2, padding=1, dilation=1, ceil_mode=False)\n",
       "  (layer1): Sequential(\n",
       "    (0): BasicBlock(\n",
       "      (conv1): Conv2d(64, 64, kernel_size=(3, 3), stride=(1, 1), padding=(1, 1), bias=False)\n",
       "      (bn1): BatchNorm2d(64, eps=1e-05, momentum=0.1, affine=True, track_running_stats=True)\n",
       "      (relu): ReLU(inplace=True)\n",
       "      (conv2): Conv2d(64, 64, kernel_size=(3, 3), stride=(1, 1), padding=(1, 1), bias=False)\n",
       "      (bn2): BatchNorm2d(64, eps=1e-05, momentum=0.1, affine=True, track_running_stats=True)\n",
       "    )\n",
       "    (1): BasicBlock(\n",
       "      (conv1): Conv2d(64, 64, kernel_size=(3, 3), stride=(1, 1), padding=(1, 1), bias=False)\n",
       "      (bn1): BatchNorm2d(64, eps=1e-05, momentum=0.1, affine=True, track_running_stats=True)\n",
       "      (relu): ReLU(inplace=True)\n",
       "      (conv2): Conv2d(64, 64, kernel_size=(3, 3), stride=(1, 1), padding=(1, 1), bias=False)\n",
       "      (bn2): BatchNorm2d(64, eps=1e-05, momentum=0.1, affine=True, track_running_stats=True)\n",
       "    )\n",
       "  )\n",
       "  (layer2): Sequential(\n",
       "    (0): BasicBlock(\n",
       "      (conv1): Conv2d(64, 128, kernel_size=(3, 3), stride=(2, 2), padding=(1, 1), bias=False)\n",
       "      (bn1): BatchNorm2d(128, eps=1e-05, momentum=0.1, affine=True, track_running_stats=True)\n",
       "      (relu): ReLU(inplace=True)\n",
       "      (conv2): Conv2d(128, 128, kernel_size=(3, 3), stride=(1, 1), padding=(1, 1), bias=False)\n",
       "      (bn2): BatchNorm2d(128, eps=1e-05, momentum=0.1, affine=True, track_running_stats=True)\n",
       "      (downsample): Sequential(\n",
       "        (0): Conv2d(64, 128, kernel_size=(1, 1), stride=(2, 2), bias=False)\n",
       "        (1): BatchNorm2d(128, eps=1e-05, momentum=0.1, affine=True, track_running_stats=True)\n",
       "      )\n",
       "    )\n",
       "    (1): BasicBlock(\n",
       "      (conv1): Conv2d(128, 128, kernel_size=(3, 3), stride=(1, 1), padding=(1, 1), bias=False)\n",
       "      (bn1): BatchNorm2d(128, eps=1e-05, momentum=0.1, affine=True, track_running_stats=True)\n",
       "      (relu): ReLU(inplace=True)\n",
       "      (conv2): Conv2d(128, 128, kernel_size=(3, 3), stride=(1, 1), padding=(1, 1), bias=False)\n",
       "      (bn2): BatchNorm2d(128, eps=1e-05, momentum=0.1, affine=True, track_running_stats=True)\n",
       "    )\n",
       "  )\n",
       "  (layer3): Sequential(\n",
       "    (0): BasicBlock(\n",
       "      (conv1): Conv2d(128, 256, kernel_size=(3, 3), stride=(2, 2), padding=(1, 1), bias=False)\n",
       "      (bn1): BatchNorm2d(256, eps=1e-05, momentum=0.1, affine=True, track_running_stats=True)\n",
       "      (relu): ReLU(inplace=True)\n",
       "      (conv2): Conv2d(256, 256, kernel_size=(3, 3), stride=(1, 1), padding=(1, 1), bias=False)\n",
       "      (bn2): BatchNorm2d(256, eps=1e-05, momentum=0.1, affine=True, track_running_stats=True)\n",
       "      (downsample): Sequential(\n",
       "        (0): Conv2d(128, 256, kernel_size=(1, 1), stride=(2, 2), bias=False)\n",
       "        (1): BatchNorm2d(256, eps=1e-05, momentum=0.1, affine=True, track_running_stats=True)\n",
       "      )\n",
       "    )\n",
       "    (1): BasicBlock(\n",
       "      (conv1): Conv2d(256, 256, kernel_size=(3, 3), stride=(1, 1), padding=(1, 1), bias=False)\n",
       "      (bn1): BatchNorm2d(256, eps=1e-05, momentum=0.1, affine=True, track_running_stats=True)\n",
       "      (relu): ReLU(inplace=True)\n",
       "      (conv2): Conv2d(256, 256, kernel_size=(3, 3), stride=(1, 1), padding=(1, 1), bias=False)\n",
       "      (bn2): BatchNorm2d(256, eps=1e-05, momentum=0.1, affine=True, track_running_stats=True)\n",
       "    )\n",
       "  )\n",
       "  (layer4): Sequential(\n",
       "    (0): BasicBlock(\n",
       "      (conv1): Conv2d(256, 512, kernel_size=(3, 3), stride=(2, 2), padding=(1, 1), bias=False)\n",
       "      (bn1): BatchNorm2d(512, eps=1e-05, momentum=0.1, affine=True, track_running_stats=True)\n",
       "      (relu): ReLU(inplace=True)\n",
       "      (conv2): Conv2d(512, 512, kernel_size=(3, 3), stride=(1, 1), padding=(1, 1), bias=False)\n",
       "      (bn2): BatchNorm2d(512, eps=1e-05, momentum=0.1, affine=True, track_running_stats=True)\n",
       "      (downsample): Sequential(\n",
       "        (0): Conv2d(256, 512, kernel_size=(1, 1), stride=(2, 2), bias=False)\n",
       "        (1): BatchNorm2d(512, eps=1e-05, momentum=0.1, affine=True, track_running_stats=True)\n",
       "      )\n",
       "    )\n",
       "    (1): BasicBlock(\n",
       "      (conv1): Conv2d(512, 512, kernel_size=(3, 3), stride=(1, 1), padding=(1, 1), bias=False)\n",
       "      (bn1): BatchNorm2d(512, eps=1e-05, momentum=0.1, affine=True, track_running_stats=True)\n",
       "      (relu): ReLU(inplace=True)\n",
       "      (conv2): Conv2d(512, 512, kernel_size=(3, 3), stride=(1, 1), padding=(1, 1), bias=False)\n",
       "      (bn2): BatchNorm2d(512, eps=1e-05, momentum=0.1, affine=True, track_running_stats=True)\n",
       "    )\n",
       "  )\n",
       "  (avgpool): AdaptiveAvgPool2d(output_size=(1, 1))\n",
       "  (fc): Sequential(\n",
       "    (0): Linear(in_features=512, out_features=512, bias=True)\n",
       "    (1): ReLU()\n",
       "    (2): Linear(in_features=512, out_features=512, bias=True)\n",
       "    (3): ReLU()\n",
       "    (4): Linear(in_features=512, out_features=7, bias=True)\n",
       "    (5): Sigmoid()\n",
       "  )\n",
       ")"
      ]
     },
     "execution_count": 15,
     "metadata": {},
     "output_type": "execute_result"
    }
   ],
   "source": [
    "model"
   ]
  },
  {
   "cell_type": "code",
   "execution_count": 119,
   "id": "30744f6a-e306-436c-af0c-6f1b31941d10",
   "metadata": {},
   "outputs": [
    {
     "name": "stdout",
     "output_type": "stream",
     "text": [
      "Done!\n"
     ]
    }
   ],
   "source": [
    "print(\"Done!\")"
   ]
  },
  {
   "cell_type": "markdown",
   "id": "a2eca052-b0a1-4d80-904a-17cd74f67ca5",
   "metadata": {},
   "source": [
    "## Test & Accouracy"
   ]
  },
  {
   "cell_type": "code",
   "execution_count": 15,
   "id": "ac682d6c-d9f4-487e-a5cb-d8b922494c07",
   "metadata": {},
   "outputs": [
    {
     "data": {
      "text/plain": [
       "3"
      ]
     },
     "execution_count": 15,
     "metadata": {},
     "output_type": "execute_result"
    }
   ],
   "source": [
    "data_test = PPDataset()\n",
    "data_test.add_data(\"/home/tk/jnotebook/AI/Akciger/Mixed/val/NORMAL/\",\"normal\")\n",
    "\n",
    "data_test.add_data(\"/home/tk/jnotebook/AI/Akciger/Mixed/val/TURBERCULOSIS/\",\"tüberküloz\")\n",
    "\n",
    "data_test.add_data(\"/home/tk/jnotebook/AI/Akciger/Mixed/val/COVID19/\",\"covid\")\n",
    "test_loader = DataLoader(data_train, batch_size=32, shuffle=True)\n",
    "#data_train[100]\n",
    "\n",
    "label_size=data_train.get_label_size()\n",
    "data_test.get_label_size()"
   ]
  },
  {
   "cell_type": "code",
   "execution_count": 21,
   "id": "77d864b9-3818-4ba2-bc41-da4a9316711b",
   "metadata": {},
   "outputs": [
    {
     "name": "stdout",
     "output_type": "stream",
     "text": [
      "Total Labels: 7\n",
      "----------------\n",
      "Labels & Size:\n",
      " ~normal:1018 M:1 E:True Start Index:0\n",
      " ~tüberküloz:449 M:1 E:True Start Index:1018\n",
      " ~pneumonia:530 M:1 E:True Start Index:1467\n",
      " ~covid:499 M:1 E:True Start Index:1997\n",
      " ~fibroz:70 M:1 E:True Start Index:2496\n",
      " ~bengin (kanser):12 M:1 E:True Start Index:2566\n",
      " ~malignant (kanser):56 M:1 E:True Start Index:2578\n",
      "Total Size:2634\n"
     ]
    }
   ],
   "source": [
    "data_test = PPDataset()\n",
    "data_test.add_data(\"/home/tk/jnotebook/AI/Akciger/Mixed/test/NORMAL/\",\"normal\")\n",
    "data_test.add_data(\"/home/tk/jnotebook/AI/Akciger/data/Tuberkuloz/test/Normal/\",\"normal\")\n",
    "data_test.add_data(\"/home/tk/jnotebook/AI/Akciger/data/pnomoni2/test_normal/\",\"normal\")\n",
    "data_test.add_data(\"/home/tk/jnotebook/AI/Akciger/data/Fibroz/test_normal/\",\"normal\")\n",
    "data_test.add_data(\"/home/tk/jnotebook/AI/Akciger/data/Cancer/test_normal/\",\"normal\")\n",
    "\n",
    "data_test.add_data(\"/home/tk/jnotebook/AI/Akciger/Mixed/test/TURBERCULOSIS/\",\"tüberküloz\")\n",
    "data_test.add_data(\"/home/tk/jnotebook/AI/Akciger/data/Tuberkuloz/test/Tuberculosis/\",\"tüberküloz\")\n",
    "\n",
    "data_test.add_data(\"/home/tk/jnotebook/AI/Akciger/Mixed/test/PNEUMONIA/\",\"pneumonia\")\n",
    "data_test.add_data(\"/home/tk/jnotebook/AI/Akciger/data/pnomoni2/test_pneum/\",\"pneumonia\")\n",
    "data_test.add_data(\"/home/tk/jnotebook/AI/Akciger/data/Fibroz/test_penum/\",\"pneumonia\")\n",
    "\n",
    "data_test.add_data(\"/home/tk/jnotebook/AI/Akciger/Mixed/test/COVID19/\",\"covid\")\n",
    "data_test.add_data(\"/home/tk/jnotebook/AI/Akciger/data/Tuberkuloz/test/Covid19/\",\"covid\")\n",
    "\n",
    "data_test.add_data(\"/home/tk/jnotebook/AI/Akciger/data/Fibroz/test_fibros/\",\"fibroz\")\n",
    "\n",
    "data_test.add_data(\"/home/tk/jnotebook/AI/Akciger/data/Cancer/test_bengin/\",\"Bengin (Kanser)\")\n",
    "\n",
    "data_test.add_data(\"/home/tk/jnotebook/AI/Akciger/data/Cancer/test_malig/\",\"Malignant (Kanser)\")\n",
    "\n",
    "\n",
    "#print(\"Normal Images:\",data_train.get_data_size_by_name(\"normal\"))\n",
    "#print(data_train[100])\n",
    "data_test.print_info()"
   ]
  },
  {
   "cell_type": "code",
   "execution_count": 22,
   "id": "e211f412-af0b-4d7c-a8f8-6dc2316607be",
   "metadata": {},
   "outputs": [],
   "source": [
    "test_loader = DataLoader(data_test, batch_size=32, shuffle=True)"
   ]
  },
  {
   "cell_type": "code",
   "execution_count": null,
   "id": "79eb99d8-6087-4a9a-8155-1ecdfe88c1bf",
   "metadata": {},
   "outputs": [],
   "source": []
  },
  {
   "cell_type": "code",
   "execution_count": 23,
   "id": "027c2a6a-2de8-4f23-ae14-8a615882dcd9",
   "metadata": {},
   "outputs": [
    {
     "name": "stderr",
     "output_type": "stream",
     "text": [
      "100%|██████████████████████████████████████████████████████████████████████████████| 83/83 [00:36<00:00,  2.28it/s]"
     ]
    },
    {
     "name": "stdout",
     "output_type": "stream",
     "text": [
      "Validation Accuracy: 83.2953682611997%\n"
     ]
    },
    {
     "name": "stderr",
     "output_type": "stream",
     "text": [
      "\n"
     ]
    }
   ],
   "source": [
    "\n",
    "# Validation\n",
    "model.eval()\n",
    "correct = 0\n",
    "total = 0\n",
    "\n",
    "acc_data={}\n",
    "for i in range(len(data_test.get_label_names())):\n",
    "    list=[]\n",
    "    for j in range(len(data_test.get_label_names())):\n",
    "        list.append(0)\n",
    "    acc_data[i]=list\n",
    "\n",
    "with torch.no_grad():\n",
    "    for inputs, labels in tqdm(test_loader):\n",
    "        inputs, labels = inputs, labels.view(-1,label_size)\n",
    "        outputs = model(inputs)\n",
    "        #print(outputs,labels)\n",
    "        for i in range(len(outputs)):\n",
    "            output_name = data_test.index_to_name(torch.argmax(outputs[i]))\n",
    "            label_name = data_test.index_to_name(torch.argmax(labels[i]))\n",
    "            if(label_name==output_name):\n",
    "                correct+=1\n",
    "            acc_data[data_test.name_to_index(label_name)][data_test.name_to_index(output_name)]+=1\n",
    "            #print(f\"{(\"ERR> \"if label_name!=output_name else\"\")}real:{label_name} result:{output_name}\")\n",
    "            total+=1\n",
    "        \"\"\"\n",
    "        for i in range(len(outputs)):\n",
    "            target=float(labels.float().unsqueeze(1).to(device)[i][0])\n",
    "            output=float(outputs[i][0])\n",
    "            print(round(output,3),target,abs(output-target)<0.5)\n",
    "            total += 1#labels.size(0)\n",
    "            correct += 1 if abs(output-target)<0.5 else 0#(predicted == labels).sum().item()\n",
    "        _, predicted = torch.max(outputs, 1)\n",
    "        \"\"\"\n",
    "acc_list[total_epoch]=(correct / total)\n",
    "print(f'Validation Accuracy: {100 * (correct / total)}%')"
   ]
  },
  {
   "cell_type": "code",
   "execution_count": 24,
   "id": "3f35b807-6aa5-46a7-9690-55731570efbb",
   "metadata": {},
   "outputs": [
    {
     "name": "stdout",
     "output_type": "stream",
     "text": [
      "Loss: {9: 0.10033183706211113, 10: 0.09628389683659414}\n",
      "Acc: {10: 0.832953682611997}\n",
      "Acc Data: {0: [794, 21, 46, 92, 35, 30, 0], 1: [9, 404, 1, 31, 0, 0, 4], 2: [28, 1, 485, 11, 5, 0, 0], 3: [31, 6, 9, 449, 4, 0, 0], 4: [15, 8, 0, 20, 27, 0, 0], 5: [2, 0, 0, 0, 0, 10, 0], 6: [17, 0, 0, 0, 0, 14, 25]}\n"
     ]
    }
   ],
   "source": [
    "\"\"\"\n",
    "4:78.70159453302962%\n",
    "6:80.6%\n",
    "8:82.6879271070615%\n",
    "10:88.04100227790433%%\n",
    "12:74.79119210326499%\n",
    "\"\"\"\n",
    "\n",
    "print(\"Loss:\",loss_list)\n",
    "print(\"Acc:\",acc_list)\n",
    "print(\"Acc Data:\",acc_data)"
   ]
  },
  {
   "cell_type": "code",
   "execution_count": 25,
   "id": "fc5260ba-1548-4929-9f89-bf74eea6cb82",
   "metadata": {},
   "outputs": [
    {
     "data": {
      "text/plain": [
       "'pneumonia'"
      ]
     },
     "execution_count": 25,
     "metadata": {},
     "output_type": "execute_result"
    }
   ],
   "source": [
    "data_test.index_to_name(2)"
   ]
  },
  {
   "cell_type": "code",
   "execution_count": 29,
   "id": "de2188c1-89bd-4e26-9950-2c5b47558b71",
   "metadata": {},
   "outputs": [
    {
     "name": "stdout",
     "output_type": "stream",
     "text": [
      "Total Labels: 7\n",
      "----------------\n",
      "Labels & Size:\n",
      " ~normal:1018 M:1 E:True Start Index:0\n",
      " ~tüberküloz:449 M:1 E:True Start Index:1018\n",
      " ~pneumonia:530 M:1 E:True Start Index:1467\n",
      " ~covid:499 M:1 E:True Start Index:1997\n",
      " ~fibroz:70 M:1 E:True Start Index:2496\n",
      " ~bengin (kanser):12 M:1 E:True Start Index:2566\n",
      " ~malignant (kanser):56 M:1 E:True Start Index:2578\n",
      "Total Size:2634\n"
     ]
    }
   ],
   "source": [
    "data_test.print_info()"
   ]
  },
  {
   "cell_type": "markdown",
   "id": "a3bbb59d-5ecf-48fa-a0a7-228d5bf1cacc",
   "metadata": {},
   "source": [
    "## Graph"
   ]
  },
  {
   "cell_type": "code",
   "execution_count": 26,
   "id": "aa0fac66-1022-4f44-828f-798eea9284fa",
   "metadata": {},
   "outputs": [
    {
     "data": {
      "image/png": "[encoded data removed]",
      "text/plain": [
       "<Figure size 640x480 with 2 Axes>"
      ]
     },
     "metadata": {},
     "output_type": "display_data"
    }
   ],
   "source": [
    "import matplotlib.pyplot as plt\n",
    "import numpy as np\n",
    "import matplotlib.colors as mcolors\n",
    "\n",
    "# Example dictionary\n",
    "\"\"\"\n",
    "data = {\n",
    "    0: [0, 0, 0, 0, 0, 0],\n",
    "    1: [0, 0, 0, 0, 0, 0],\n",
    "    2: [0, 0, 0, 10, 0, 0],\n",
    "    3: [0, 0, 0, 0, 0, 0],\n",
    "    4: [0, 0, 0, 0, 0, 0],\n",
    "    5: [0, 0, 0, 0, 0, 0]\n",
    "}\n",
    "\"\"\"\n",
    "row_titles = data_train.get_label_names()#['Row 1', 'Row 2', 'Row 3', 'Row 4', 'Row 5', 'Row 6']\n",
    "column_titles = data_train.get_label_names()\n",
    "\n",
    "\n",
    "\n",
    "# Row titles (could be anything you want)\n",
    "#row_titles = data_train.get_label_names()#['Row 1', 'Row 2', 'Row 3', 'Row 4', 'Row 5', 'Row 6']\n",
    "\n",
    "# Column titles (could be anything you want)\n",
    "#column_titles = ['Col 1', 'Col 2', 'Col 3', 'Col 4', 'Col 5', 'Col 6']\n",
    "\n",
    "# Convert dictionary to a 2D numpy array\n",
    "matrix = np.array([acc_data[i] for i in range(len(row_titles))])\n",
    "\n",
    "# Custom colormap for red-white gradient\n",
    "cmap = mcolors.LinearSegmentedColormap.from_list('red_white', ['white', 'red'])\n",
    "\n",
    "# Plot using matplotlib\n",
    "fig, ax = plt.subplots()\n",
    "\n",
    "# Display the matrix as a heatmap\n",
    "cax = ax.imshow(matrix, cmap=cmap, interpolation='nearest')\n",
    "\n",
    "# Add color bar\n",
    "fig.colorbar(cax)\n",
    "\n",
    "# Add title for the plot\n",
    "plt.title('Error Map')\n",
    "\n",
    "# Set row labels (yticks)\n",
    "ax.set_yticks(np.arange(len(row_titles)))  # Position of the ticks\n",
    "ax.set_yticklabels(row_titles)  # Assign the labels to the ticks\n",
    "\n",
    "# Set column labels (xticks)\n",
    "ax.set_xticks(np.arange(matrix.shape[1]))  # Position of the ticks\n",
    "ax.set_xticklabels(column_titles)  # Assign the labels to the ticks\n",
    "\n",
    "# Rotate x-axis labels for better readability\n",
    "plt.xticks(rotation=45)\n",
    "\n",
    "# Add labels to the rows and columns\n",
    "ax.set_xlabel('Output Variable')\n",
    "ax.set_ylabel('Given Variable')\n",
    "\n",
    "# Annotate each cell with the numeric value\n",
    "for i in range(len(row_titles)):\n",
    "    for j in range(len(column_titles)):\n",
    "        # If the row and column index are the same, set color to green\n",
    "        if i == j:\n",
    "            ax.text(j, i, str(matrix[i, j]), ha='center', va='center', color='black')\n",
    "            ax.add_patch(plt.Rectangle((j - 0.5, i - 0.5), 1, 1, color='green'))  # Draw a green square\n",
    "        else:\n",
    "            ax.text(j, i, str(matrix[i, j]), ha='center', va='center', color='black')\n",
    "\n",
    "# Show the plot\n",
    "plt.show()\n"
   ]
  },
  {
   "cell_type": "code",
   "execution_count": 376,
   "id": "4755f5fb-03c9-422b-b341-0852772299d6",
   "metadata": {},
   "outputs": [
    {
     "ename": "NameError",
     "evalue": "name 'image_stream' is not defined",
     "output_type": "error",
     "traceback": [
      "\u001b[0;31m---------------------------------------------------------------------------\u001b[0m",
      "\u001b[0;31mNameError\u001b[0m                                 Traceback (most recent call last)",
      "Cell \u001b[0;32mIn[376], line 1\u001b[0m\n\u001b[0;32m----> 1\u001b[0m plt\u001b[38;5;241m.\u001b[39msavefig(image_stream, \u001b[38;5;28mformat\u001b[39m\u001b[38;5;241m=\u001b[39m\u001b[38;5;124m'\u001b[39m\u001b[38;5;124mpng\u001b[39m\u001b[38;5;124m'\u001b[39m)\n",
      "\u001b[0;31mNameError\u001b[0m: name 'image_stream' is not defined"
     ]
    }
   ],
   "source": [
    "plt.savefig(image_stream, format='png')"
   ]
  },
  {
   "cell_type": "code",
   "execution_count": 46,
   "id": "41235851-4127-44f3-b848-f145d697b9a8",
   "metadata": {},
   "outputs": [
    {
     "name": "stdout",
     "output_type": "stream",
     "text": [
      "/home/tk/jnotebook/AI/Akciger/Mixed/test/COVID19/COVID19(516).jpg False\n"
     ]
    },
    {
     "data": {
      "image/png": "[encoded data removed]",
      "text/plain": [
       "<Figure size 800x500 with 1 Axes>"
      ]
     },
     "metadata": {},
     "output_type": "display_data"
    }
   ],
   "source": [
    "import matplotlib.pyplot as plt\n",
    "\n",
    "# Sample array (replace with your actual array)\n",
    "#array = [100, 20, 30, 40, 50, 60, 70]\n",
    "\n",
    "def plot_array(array):\n",
    "    # Find the size of the array using len()\n",
    "    size = len(array)\n",
    "    \n",
    "    # Find the highest value and the index of the highest value\n",
    "    max_value = max(array)\n",
    "    max_index = array.index(max_value)\n",
    "    \n",
    "    # Create a plot\n",
    "    plt.figure(figsize=(8, 5))\n",
    "    \n",
    "    # Plot the array values as a bar graph\n",
    "    bars = plt.bar(range(size), array, color='skyblue')\n",
    "    \n",
    "    # Highlight only the highest column with green\n",
    "    bars[max_index].set_color('green'if max_index==0 else \"red\")\n",
    "    \n",
    "    # Add a title for the whole graph\n",
    "    plt.title('Array Values as Column Graph')\n",
    "    \n",
    "    # Add labels for each column\n",
    "    plt.xlabel('Index')\n",
    "    plt.ylabel('Value')\n",
    "    \n",
    "    column_titles = data_train.get_label_names()\n",
    "    \n",
    "    # Add a title above each column\n",
    "    for i in range(size):\n",
    "        plt.text(bars[i].get_x() + bars[i].get_width() / 2, bars[i].get_height(), \n",
    "                 f'{column_titles[i]}', ha='center', va='bottom')\n",
    "    \n",
    "    # Display the plot \n",
    "    #self.save_plot(\"plot.png\")\n",
    "    plt.show()\n",
    "index=1\n",
    "#input = data_train[index][0].unsqueeze(0)\n",
    "\n",
    "\"\"\"\n",
    "Labels & Size:\n",
    " ~normal:1018 M:1 E:True Start Index:0\n",
    " ~tüberküloz:449 M:1 E:True Start Index:1018\n",
    " ~pneumonia:530 M:1 E:True Start Index:1467\n",
    " ~covid:499 M:1 E:True Start Index:1997\n",
    " ~fibroz:70 M:1 E:True Start Index:2496\n",
    " ~bengin (kanser):12 M:1 E:True Start Index:2566\n",
    " ~malignant (kanser):56 M:1 E:True Start Index:2578\n",
    "Total Size:2634\n",
    "\n",
    "\"\"\"\n",
    "plot_array(\n",
    "    (model( data_test.read_and_transform( data_test.list[3][\"data\"][0] ).unsqueeze(0) ).to(\"cpu\").squeeze()*100).detach().tolist()\n",
    ")\n",
    "#print(data_train[index][1])\n",
    "#data_train[500][0]\n",
    "#data_train[500][0].unsqueeze(0)"
   ]
  },
  {
   "cell_type": "markdown",
   "id": "5f270834-86c7-4eef-b4c2-904d21fd9d7b",
   "metadata": {},
   "source": [
    "## Save & Load"
   ]
  },
  {
   "cell_type": "code",
   "execution_count": 19,
   "id": "a481f81e-435d-4d10-bd7c-56df4ab68462",
   "metadata": {},
   "outputs": [
    {
     "name": "stdout",
     "output_type": "stream",
     "text": [
      "lung_10.pth\" saved\n"
     ]
    }
   ],
   "source": [
    "# SAVE\n",
    "import torch\n",
    "\n",
    "# Assuming 'model' is your trained model\n",
    "torch.save(model.state_dict(), f'lung_{total_epoch}.pth')\n",
    "print(f'lung_{total_epoch}.pth\" saved')\n"
   ]
  },
  {
   "cell_type": "code",
   "execution_count": 17,
   "id": "b8fd2aef-1c08-4816-90de-bc4411fa70b0",
   "metadata": {},
   "outputs": [
    {
     "name": "stderr",
     "output_type": "stream",
     "text": [
      "/tmp/ipykernel_3845/702090119.py:8: FutureWarning: You are using `torch.load` with `weights_only=False` (the current default value), which uses the default pickle module implicitly. It is possible to construct malicious pickle data which will execute arbitrary code during unpickling (See https://github.com/pytorch/pytorch/blob/main/SECURITY.md#untrusted-models for more details). In a future release, the default value for `weights_only` will be flipped to `True`. This limits the functions that could be executed during unpickling. Arbitrary objects will no longer be allowed to be loaded via this mode unless they are explicitly allowlisted by the user via `torch.serialization.add_safe_globals`. We recommend you start setting `weights_only=True` for any use case where you don't have full control of the loaded file. Please open an issue on GitHub for any issues related to this experimental feature.\n",
      "  model.load_state_dict(torch.load('lung_8.pth'))\n"
     ]
    },
    {
     "data": {
      "text/plain": [
       "ResNet(\n",
       "  (conv1): Conv2d(1, 64, kernel_size=(7, 7), stride=(2, 2), padding=(3, 3), bias=False)\n",
       "  (bn1): BatchNorm2d(64, eps=1e-05, momentum=0.1, affine=True, track_running_stats=True)\n",
       "  (relu): ReLU(inplace=True)\n",
       "  (maxpool): MaxPool2d(kernel_size=3, stride=2, padding=1, dilation=1, ceil_mode=False)\n",
       "  (layer1): Sequential(\n",
       "    (0): BasicBlock(\n",
       "      (conv1): Conv2d(64, 64, kernel_size=(3, 3), stride=(1, 1), padding=(1, 1), bias=False)\n",
       "      (bn1): BatchNorm2d(64, eps=1e-05, momentum=0.1, affine=True, track_running_stats=True)\n",
       "      (relu): ReLU(inplace=True)\n",
       "      (conv2): Conv2d(64, 64, kernel_size=(3, 3), stride=(1, 1), padding=(1, 1), bias=False)\n",
       "      (bn2): BatchNorm2d(64, eps=1e-05, momentum=0.1, affine=True, track_running_stats=True)\n",
       "    )\n",
       "    (1): BasicBlock(\n",
       "      (conv1): Conv2d(64, 64, kernel_size=(3, 3), stride=(1, 1), padding=(1, 1), bias=False)\n",
       "      (bn1): BatchNorm2d(64, eps=1e-05, momentum=0.1, affine=True, track_running_stats=True)\n",
       "      (relu): ReLU(inplace=True)\n",
       "      (conv2): Conv2d(64, 64, kernel_size=(3, 3), stride=(1, 1), padding=(1, 1), bias=False)\n",
       "      (bn2): BatchNorm2d(64, eps=1e-05, momentum=0.1, affine=True, track_running_stats=True)\n",
       "    )\n",
       "  )\n",
       "  (layer2): Sequential(\n",
       "    (0): BasicBlock(\n",
       "      (conv1): Conv2d(64, 128, kernel_size=(3, 3), stride=(2, 2), padding=(1, 1), bias=False)\n",
       "      (bn1): BatchNorm2d(128, eps=1e-05, momentum=0.1, affine=True, track_running_stats=True)\n",
       "      (relu): ReLU(inplace=True)\n",
       "      (conv2): Conv2d(128, 128, kernel_size=(3, 3), stride=(1, 1), padding=(1, 1), bias=False)\n",
       "      (bn2): BatchNorm2d(128, eps=1e-05, momentum=0.1, affine=True, track_running_stats=True)\n",
       "      (downsample): Sequential(\n",
       "        (0): Conv2d(64, 128, kernel_size=(1, 1), stride=(2, 2), bias=False)\n",
       "        (1): BatchNorm2d(128, eps=1e-05, momentum=0.1, affine=True, track_running_stats=True)\n",
       "      )\n",
       "    )\n",
       "    (1): BasicBlock(\n",
       "      (conv1): Conv2d(128, 128, kernel_size=(3, 3), stride=(1, 1), padding=(1, 1), bias=False)\n",
       "      (bn1): BatchNorm2d(128, eps=1e-05, momentum=0.1, affine=True, track_running_stats=True)\n",
       "      (relu): ReLU(inplace=True)\n",
       "      (conv2): Conv2d(128, 128, kernel_size=(3, 3), stride=(1, 1), padding=(1, 1), bias=False)\n",
       "      (bn2): BatchNorm2d(128, eps=1e-05, momentum=0.1, affine=True, track_running_stats=True)\n",
       "    )\n",
       "  )\n",
       "  (layer3): Sequential(\n",
       "    (0): BasicBlock(\n",
       "      (conv1): Conv2d(128, 256, kernel_size=(3, 3), stride=(2, 2), padding=(1, 1), bias=False)\n",
       "      (bn1): BatchNorm2d(256, eps=1e-05, momentum=0.1, affine=True, track_running_stats=True)\n",
       "      (relu): ReLU(inplace=True)\n",
       "      (conv2): Conv2d(256, 256, kernel_size=(3, 3), stride=(1, 1), padding=(1, 1), bias=False)\n",
       "      (bn2): BatchNorm2d(256, eps=1e-05, momentum=0.1, affine=True, track_running_stats=True)\n",
       "      (downsample): Sequential(\n",
       "        (0): Conv2d(128, 256, kernel_size=(1, 1), stride=(2, 2), bias=False)\n",
       "        (1): BatchNorm2d(256, eps=1e-05, momentum=0.1, affine=True, track_running_stats=True)\n",
       "      )\n",
       "    )\n",
       "    (1): BasicBlock(\n",
       "      (conv1): Conv2d(256, 256, kernel_size=(3, 3), stride=(1, 1), padding=(1, 1), bias=False)\n",
       "      (bn1): BatchNorm2d(256, eps=1e-05, momentum=0.1, affine=True, track_running_stats=True)\n",
       "      (relu): ReLU(inplace=True)\n",
       "      (conv2): Conv2d(256, 256, kernel_size=(3, 3), stride=(1, 1), padding=(1, 1), bias=False)\n",
       "      (bn2): BatchNorm2d(256, eps=1e-05, momentum=0.1, affine=True, track_running_stats=True)\n",
       "    )\n",
       "  )\n",
       "  (layer4): Sequential(\n",
       "    (0): BasicBlock(\n",
       "      (conv1): Conv2d(256, 512, kernel_size=(3, 3), stride=(2, 2), padding=(1, 1), bias=False)\n",
       "      (bn1): BatchNorm2d(512, eps=1e-05, momentum=0.1, affine=True, track_running_stats=True)\n",
       "      (relu): ReLU(inplace=True)\n",
       "      (conv2): Conv2d(512, 512, kernel_size=(3, 3), stride=(1, 1), padding=(1, 1), bias=False)\n",
       "      (bn2): BatchNorm2d(512, eps=1e-05, momentum=0.1, affine=True, track_running_stats=True)\n",
       "      (downsample): Sequential(\n",
       "        (0): Conv2d(256, 512, kernel_size=(1, 1), stride=(2, 2), bias=False)\n",
       "        (1): BatchNorm2d(512, eps=1e-05, momentum=0.1, affine=True, track_running_stats=True)\n",
       "      )\n",
       "    )\n",
       "    (1): BasicBlock(\n",
       "      (conv1): Conv2d(512, 512, kernel_size=(3, 3), stride=(1, 1), padding=(1, 1), bias=False)\n",
       "      (bn1): BatchNorm2d(512, eps=1e-05, momentum=0.1, affine=True, track_running_stats=True)\n",
       "      (relu): ReLU(inplace=True)\n",
       "      (conv2): Conv2d(512, 512, kernel_size=(3, 3), stride=(1, 1), padding=(1, 1), bias=False)\n",
       "      (bn2): BatchNorm2d(512, eps=1e-05, momentum=0.1, affine=True, track_running_stats=True)\n",
       "    )\n",
       "  )\n",
       "  (avgpool): AdaptiveAvgPool2d(output_size=(1, 1))\n",
       "  (fc): Sequential(\n",
       "    (0): Linear(in_features=512, out_features=512, bias=True)\n",
       "    (1): ReLU()\n",
       "    (2): Linear(in_features=512, out_features=512, bias=True)\n",
       "    (3): ReLU()\n",
       "    (4): Linear(in_features=512, out_features=7, bias=True)\n",
       "    (5): Sigmoid()\n",
       "  )\n",
       ")"
      ]
     },
     "execution_count": 17,
     "metadata": {},
     "output_type": "execute_result"
    }
   ],
   "source": [
    "# LOAD\n",
    "\n",
    "import torch\n",
    "import torch.nn as nn\n",
    "import torchvision.models as models\n",
    "\n",
    "# Load the state_dict from the saved file\n",
    "model.load_state_dict(torch.load('lung_8.pth'))\n",
    "\n",
    "# Set the model to evaluation mode (important for inference)\n",
    "model.eval()"
   ]
  },
  {
   "cell_type": "code",
   "execution_count": 47,
   "id": "273c24a8-7e53-476a-9df7-eaa2942a5ffe",
   "metadata": {},
   "outputs": [
    {
     "ename": "ModuleNotFoundError",
     "evalue": "No module named 'pycuda'",
     "output_type": "error",
     "traceback": [
      "\u001b[0;31m---------------------------------------------------------------------------\u001b[0m",
      "\u001b[0;31mModuleNotFoundError\u001b[0m                       Traceback (most recent call last)",
      "Cell \u001b[0;32mIn[47], line 1\u001b[0m\n\u001b[0;32m----> 1\u001b[0m \u001b[38;5;28;01mimport\u001b[39;00m \u001b[38;5;21;01mpycuda\u001b[39;00m\u001b[38;5;21;01m.\u001b[39;00m\u001b[38;5;21;01mdriver\u001b[39;00m \u001b[38;5;28;01mas\u001b[39;00m \u001b[38;5;21;01mcuda\u001b[39;00m\n\u001b[1;32m      2\u001b[0m cuda\u001b[38;5;241m.\u001b[39minit()\n\u001b[1;32m      3\u001b[0m \u001b[38;5;28mprint\u001b[39m(cuda\u001b[38;5;241m.\u001b[39mDevice(\u001b[38;5;241m0\u001b[39m)\u001b[38;5;241m.\u001b[39mcompute_capability())\n",
      "\u001b[0;31mModuleNotFoundError\u001b[0m: No module named 'pycuda'"
     ]
    }
   ],
   "source": [
    "import pycuda.driver as cuda\n",
    "cuda.init()\n",
    "print(cuda.Device(0).compute_capability())\n"
   ]
  },
  {
   "cell_type": "code",
   "execution_count": null,
   "id": "8d6cd6fc-baeb-49cd-8632-1c54297bb3ce",
   "metadata": {},
   "outputs": [],
   "source": []
  }
 ],
 "metadata": {
  "kernelspec": {
   "display_name": "Python 3 (ipykernel)",
   "language": "python",
   "name": "python3"
  },
  "language_info": {
   "codemirror_mode": {
    "name": "ipython",
    "version": 3
   },
   "file_extension": ".py",
   "mimetype": "text/x-python",
   "name": "python",
   "nbconvert_exporter": "python",
   "pygments_lexer": "ipython3",
   "version": "3.12.4"
  }
 },
 "nbformat": 4,
 "nbformat_minor": 5
}
